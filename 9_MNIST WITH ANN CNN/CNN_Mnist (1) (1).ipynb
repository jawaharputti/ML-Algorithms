{
  "nbformat": 4,
  "nbformat_minor": 0,
  "metadata": {
    "colab": {
      "name": "CNN_Mnist.ipynb",
      "provenance": [],
      "collapsed_sections": []
    },
    "kernelspec": {
      "name": "python3",
      "display_name": "Python 3"
    },
    "accelerator": "GPU"
  },
  "cells": [
    {
      "cell_type": "code",
      "metadata": {
        "id": "k1q7aFYRBRL0",
        "colab_type": "code",
        "colab": {}
      },
      "source": [
        "import numpy as np\n",
        "import matplotlib.pyplot as plt\n",
        "import keras\n",
        "from keras.models import Sequential\n",
        "from keras.layers import Dense, Dropout, Conv2D, MaxPool2D, Flatten\n",
        "from keras.datasets import mnist"
      ],
      "execution_count": 0,
      "outputs": []
    },
    {
      "cell_type": "code",
      "metadata": {
        "id": "Ttom1qwGEG-K",
        "colab_type": "code",
        "colab": {}
      },
      "source": [
        "(X_train, y_train), (X_test, y_test) = mnist.load_data()"
      ],
      "execution_count": 0,
      "outputs": []
    },
    {
      "cell_type": "code",
      "metadata": {
        "id": "SF8k1k0wEisy",
        "colab_type": "code",
        "outputId": "cc11e751-392c-447f-9245-96d80ca6c7d3",
        "colab": {
          "base_uri": "https://localhost:8080/",
          "height": 34
        }
      },
      "source": [
        "X_train.shape"
      ],
      "execution_count": 0,
      "outputs": [
        {
          "output_type": "execute_result",
          "data": {
            "text/plain": [
              "(60000, 28, 28)"
            ]
          },
          "metadata": {
            "tags": []
          },
          "execution_count": 3
        }
      ]
    },
    {
      "cell_type": "code",
      "metadata": {
        "id": "w9405mTKElKy",
        "colab_type": "code",
        "outputId": "4a5c296b-a714-4e16-d0a1-b6dc72fcfb50",
        "colab": {
          "base_uri": "https://localhost:8080/",
          "height": 34
        }
      },
      "source": [
        "X_test.shape"
      ],
      "execution_count": 0,
      "outputs": [
        {
          "output_type": "execute_result",
          "data": {
            "text/plain": [
              "(10000, 28, 28)"
            ]
          },
          "metadata": {
            "tags": []
          },
          "execution_count": 4
        }
      ]
    },
    {
      "cell_type": "code",
      "metadata": {
        "id": "8jm6MKIkEwvo",
        "colab_type": "code",
        "outputId": "127006e3-9c59-407b-af5c-5fdb53f1a72f",
        "colab": {
          "base_uri": "https://localhost:8080/",
          "height": 34
        }
      },
      "source": [
        "y_train.shape"
      ],
      "execution_count": 0,
      "outputs": [
        {
          "output_type": "execute_result",
          "data": {
            "text/plain": [
              "(60000,)"
            ]
          },
          "metadata": {
            "tags": []
          },
          "execution_count": 5
        }
      ]
    },
    {
      "cell_type": "code",
      "metadata": {
        "id": "BI3vEOW8E7jB",
        "colab_type": "code",
        "outputId": "c0b62f14-929f-4e53-886b-991ffa8c2553",
        "colab": {
          "base_uri": "https://localhost:8080/",
          "height": 34
        }
      },
      "source": [
        "y_test.shape"
      ],
      "execution_count": 0,
      "outputs": [
        {
          "output_type": "execute_result",
          "data": {
            "text/plain": [
              "(10000,)"
            ]
          },
          "metadata": {
            "tags": []
          },
          "execution_count": 6
        }
      ]
    },
    {
      "cell_type": "code",
      "metadata": {
        "id": "r_RnwF-UE9LC",
        "colab_type": "code",
        "outputId": "4fdaa0f7-b124-4e65-c867-f708fe3a7e8b",
        "colab": {
          "base_uri": "https://localhost:8080/",
          "height": 1000
        }
      },
      "source": [
        "fig, axes = plt.subplots(nrows = 10, ncols = 5, figsize=(5,15))\n",
        "fig.tight_layout()\n",
        "for i in range(10):\n",
        "    for j in range(5):\n",
        "        img = X_train[y_train==i][np.random.randint(0,len(X_train[y_train==i]))]\n",
        "        axes[i][j].imshow(img, cmap='gray')\n",
        "        axes[i][j].axis('off')\n",
        "    print(i, ' : ', len(X_train[y_train==i]))"
      ],
      "execution_count": 0,
      "outputs": [
        {
          "output_type": "stream",
          "text": [
            "0  :  5923\n",
            "1  :  6742\n",
            "2  :  5958\n",
            "3  :  6131\n",
            "4  :  5842\n",
            "5  :  5421\n",
            "6  :  5918\n",
            "7  :  6265\n",
            "8  :  5851\n",
            "9  :  5949\n"
          ],
          "name": "stdout"
        },
        {
          "output_type": "display_data",
          "data": {
            "image/png": "[encoded data removed]",
            "text/plain": [
              "<Figure size 360x1080 with 50 Axes>"
            ]
          },
          "metadata": {
            "tags": []
          }
        }
      ]
    },
    {
      "cell_type": "code",
      "metadata": {
        "id": "LHaF2BSmIgTQ",
        "colab_type": "code",
        "colab": {}
      },
      "source": [
        "X_train = X_train/255\n",
        "X_test = X_test/255"
      ],
      "execution_count": 0,
      "outputs": []
    },
    {
      "cell_type": "code",
      "metadata": {
        "id": "wiYT6yAoJAX0",
        "colab_type": "code",
        "colab": {}
      },
      "source": [
        "X_train = X_train.reshape(60000, 28,28,1)\n",
        "X_test = X_test.reshape(10000, 28,28,1)"
      ],
      "execution_count": 0,
      "outputs": []
    },
    {
      "cell_type": "code",
      "metadata": {
        "id": "aT8HLiA4Jram",
        "colab_type": "code",
        "outputId": "dc41e077-48f4-485c-8dcd-5ee9d587e140",
        "colab": {
          "base_uri": "https://localhost:8080/",
          "height": 34
        }
      },
      "source": [
        "X_train.shape"
      ],
      "execution_count": 0,
      "outputs": [
        {
          "output_type": "execute_result",
          "data": {
            "text/plain": [
              "(60000, 28, 28, 1)"
            ]
          },
          "metadata": {
            "tags": []
          },
          "execution_count": 10
        }
      ]
    },
    {
      "cell_type": "code",
      "metadata": {
        "id": "DgjZTRP2J1yb",
        "colab_type": "code",
        "outputId": "130dd255-b81f-42ae-d1db-a98870848f68",
        "colab": {
          "base_uri": "https://localhost:8080/",
          "height": 34
        }
      },
      "source": [
        "X_test.shape"
      ],
      "execution_count": 0,
      "outputs": [
        {
          "output_type": "execute_result",
          "data": {
            "text/plain": [
              "(10000, 28, 28, 1)"
            ]
          },
          "metadata": {
            "tags": []
          },
          "execution_count": 11
        }
      ]
    },
    {
      "cell_type": "code",
      "metadata": {
        "id": "ET0hAR-WJ3Hs",
        "colab_type": "code",
        "colab": {}
      },
      "source": [
        "y_train = keras.utils.np_utils.to_categorical(y_train, 10)\n",
        "y_test = keras.utils.np_utils.to_categorical(y_test, 10)"
      ],
      "execution_count": 0,
      "outputs": []
    },
    {
      "cell_type": "code",
      "metadata": {
        "id": "u5XSb5qGKlHS",
        "colab_type": "code",
        "outputId": "ebabc183-4c46-46eb-9ca0-2fb5733cb8dc",
        "colab": {
          "base_uri": "https://localhost:8080/",
          "height": 34
        }
      },
      "source": [
        "y_train.shape"
      ],
      "execution_count": 0,
      "outputs": [
        {
          "output_type": "execute_result",
          "data": {
            "text/plain": [
              "(60000, 10)"
            ]
          },
          "metadata": {
            "tags": []
          },
          "execution_count": 13
        }
      ]
    },
    {
      "cell_type": "code",
      "metadata": {
        "id": "8qSy6G0BKmZ4",
        "colab_type": "code",
        "outputId": "4bca8c38-bd49-4757-86fd-7f4a5343c77e",
        "colab": {
          "base_uri": "https://localhost:8080/",
          "height": 34
        }
      },
      "source": [
        "y_test.shape"
      ],
      "execution_count": 0,
      "outputs": [
        {
          "output_type": "execute_result",
          "data": {
            "text/plain": [
              "(10000, 10)"
            ]
          },
          "metadata": {
            "tags": []
          },
          "execution_count": 14
        }
      ]
    },
    {
      "cell_type": "code",
      "metadata": {
        "id": "tRiCO5YVLFJl",
        "colab_type": "code",
        "colab": {}
      },
      "source": [
        "model = Sequential()\n",
        "\n",
        "model.add(Conv2D(64, kernel_size=(3,3), strides=1, activation='relu', input_shape=(28,28,1)))\n",
        "model.add(Dropout(0.3))\n",
        "model.add(Conv2D(32, kernel_size=(3,3), strides=1, activation='relu'))\n",
        "model.add(Dropout(0.2))\n",
        "model.add(MaxPool2D((2,2), strides=2))\n",
        "model.add(Flatten())\n",
        "\n",
        "model.add(Dense(500, activation='relu'))\n",
        "model.add(Dropout(0.5))\n",
        "model.add(Dense(100, activation='relu'))\n",
        "model.add(Dropout(0.5))\n",
        "model.add(Dense(50, activation='relu'))\n",
        "model.add(Dropout(0.2))\n",
        "model.add(Dense(10, activation='softmax'))"
      ],
      "execution_count": 0,
      "outputs": []
    },
    {
      "cell_type": "code",
      "metadata": {
        "id": "hNI-ZKC5LB3g",
        "colab_type": "code",
        "colab": {}
      },
      "source": [
        "model.compile(optimizer='adam', loss='categorical_crossentropy', metrics=['accuracy'])"
      ],
      "execution_count": 0,
      "outputs": []
    },
    {
      "cell_type": "code",
      "metadata": {
        "id": "BGwPIfodL-vJ",
        "colab_type": "code",
        "outputId": "45775f54-7d96-4a7a-88af-eb3408dc3890",
        "colab": {
          "base_uri": "https://localhost:8080/",
          "height": 615
        }
      },
      "source": [
        "model.summary()"
      ],
      "execution_count": 0,
      "outputs": [
        {
          "output_type": "stream",
          "text": [
            "Model: \"sequential_2\"\n",
            "_________________________________________________________________\n",
            "Layer (type)                 Output Shape              Param #   \n",
            "=================================================================\n",
            "conv2d_3 (Conv2D)            (None, 26, 26, 64)        640       \n",
            "_________________________________________________________________\n",
            "dropout_4 (Dropout)          (None, 26, 26, 64)        0         \n",
            "_________________________________________________________________\n",
            "conv2d_4 (Conv2D)            (None, 24, 24, 32)        18464     \n",
            "_________________________________________________________________\n",
            "dropout_5 (Dropout)          (None, 24, 24, 32)        0         \n",
            "_________________________________________________________________\n",
            "max_pooling2d_3 (MaxPooling2 (None, 12, 12, 32)        0         \n",
            "_________________________________________________________________\n",
            "flatten_2 (Flatten)          (None, 4608)              0         \n",
            "_________________________________________________________________\n",
            "dense_5 (Dense)              (None, 500)               2304500   \n",
            "_________________________________________________________________\n",
            "dropout_6 (Dropout)          (None, 500)               0         \n",
            "_________________________________________________________________\n",
            "dense_6 (Dense)              (None, 100)               50100     \n",
            "_________________________________________________________________\n",
            "dropout_7 (Dropout)          (None, 100)               0         \n",
            "_________________________________________________________________\n",
            "dense_7 (Dense)              (None, 50)                5050      \n",
            "_________________________________________________________________\n",
            "dropout_8 (Dropout)          (None, 50)                0         \n",
            "_________________________________________________________________\n",
            "dense_8 (Dense)              (None, 10)                510       \n",
            "=================================================================\n",
            "Total params: 2,379,264\n",
            "Trainable params: 2,379,264\n",
            "Non-trainable params: 0\n",
            "_________________________________________________________________\n"
          ],
          "name": "stdout"
        }
      ]
    },
    {
      "cell_type": "code",
      "metadata": {
        "id": "GdGbF0UVMC3P",
        "colab_type": "code",
        "outputId": "d9d119da-73d5-47d1-ea7b-441696cdd98f",
        "colab": {
          "base_uri": "https://localhost:8080/",
          "height": 582
        }
      },
      "source": [
        "h = model.fit(X_train, y_train, epochs=15, batch_size=100, validation_split=0.1, verbose=1)"
      ],
      "execution_count": 0,
      "outputs": [
        {
          "output_type": "stream",
          "text": [
            "Train on 54000 samples, validate on 6000 samples\n",
            "Epoch 1/15\n",
            "54000/54000 [==============================] - 13s 250us/step - loss: 0.4159 - acc: 0.8735 - val_loss: 0.0619 - val_acc: 0.9833\n",
            "Epoch 2/15\n",
            "54000/54000 [==============================] - 13s 235us/step - loss: 0.1210 - acc: 0.9681 - val_loss: 0.0464 - val_acc: 0.9878\n",
            "Epoch 3/15\n",
            "54000/54000 [==============================] - 13s 233us/step - loss: 0.0885 - acc: 0.9779 - val_loss: 0.0387 - val_acc: 0.9893\n",
            "Epoch 4/15\n",
            "54000/54000 [==============================] - 13s 232us/step - loss: 0.0728 - acc: 0.9808 - val_loss: 0.0379 - val_acc: 0.9900\n",
            "Epoch 5/15\n",
            "54000/54000 [==============================] - 13s 233us/step - loss: 0.0596 - acc: 0.9852 - val_loss: 0.0345 - val_acc: 0.9902\n",
            "Epoch 6/15\n",
            "54000/54000 [==============================] - 13s 234us/step - loss: 0.0495 - acc: 0.9869 - val_loss: 0.0398 - val_acc: 0.9903\n",
            "Epoch 7/15\n",
            "54000/54000 [==============================] - 13s 232us/step - loss: 0.0468 - acc: 0.9881 - val_loss: 0.0349 - val_acc: 0.9922\n",
            "Epoch 8/15\n",
            "54000/54000 [==============================] - 12s 231us/step - loss: 0.0428 - acc: 0.9887 - val_loss: 0.0289 - val_acc: 0.9922\n",
            "Epoch 9/15\n",
            "54000/54000 [==============================] - 13s 234us/step - loss: 0.0382 - acc: 0.9901 - val_loss: 0.0351 - val_acc: 0.9915\n",
            "Epoch 10/15\n",
            "54000/54000 [==============================] - 13s 233us/step - loss: 0.0327 - acc: 0.9909 - val_loss: 0.0326 - val_acc: 0.9917\n",
            "Epoch 11/15\n",
            "54000/54000 [==============================] - 12s 230us/step - loss: 0.0310 - acc: 0.9923 - val_loss: 0.0294 - val_acc: 0.9932\n",
            "Epoch 12/15\n",
            "54000/54000 [==============================] - 12s 231us/step - loss: 0.0312 - acc: 0.9922 - val_loss: 0.0330 - val_acc: 0.9927\n",
            "Epoch 13/15\n",
            "54000/54000 [==============================] - 13s 234us/step - loss: 0.0263 - acc: 0.9928 - val_loss: 0.0377 - val_acc: 0.9920\n",
            "Epoch 14/15\n",
            "54000/54000 [==============================] - 13s 232us/step - loss: 0.0264 - acc: 0.9927 - val_loss: 0.0382 - val_acc: 0.9902\n",
            "Epoch 15/15\n",
            "54000/54000 [==============================] - 13s 232us/step - loss: 0.0242 - acc: 0.9939 - val_loss: 0.0321 - val_acc: 0.9932\n"
          ],
          "name": "stdout"
        }
      ]
    },
    {
      "cell_type": "code",
      "metadata": {
        "id": "y2apFMQkNGJ-",
        "colab_type": "code",
        "outputId": "e4d3b4d2-533b-41a1-f789-b59f3231285d",
        "colab": {
          "base_uri": "https://localhost:8080/",
          "height": 52
        }
      },
      "source": [
        "model.evaluate(X_test,y_test)"
      ],
      "execution_count": 0,
      "outputs": [
        {
          "output_type": "stream",
          "text": [
            "10000/10000 [==============================] - 1s 97us/step\n"
          ],
          "name": "stdout"
        },
        {
          "output_type": "execute_result",
          "data": {
            "text/plain": [
              "[0.04281269009268108, 0.9895]"
            ]
          },
          "metadata": {
            "tags": []
          },
          "execution_count": 26
        }
      ]
    },
    {
      "cell_type": "code",
      "metadata": {
        "id": "Q3jt_j6QNKD2",
        "colab_type": "code",
        "outputId": "8f592ca4-2e68-45d9-b647-bb6767753916",
        "colab": {
          "base_uri": "https://localhost:8080/",
          "height": 282
        }
      },
      "source": [
        "plt.plot(h.history['loss'])\n",
        "plt.plot(h.history['val_loss'])"
      ],
      "execution_count": 0,
      "outputs": [
        {
          "output_type": "execute_result",
          "data": {
            "text/plain": [
              "[<matplotlib.lines.Line2D at 0x7fe5d02bd0b8>]"
            ]
          },
          "metadata": {
            "tags": []
          },
          "execution_count": 27
        },
        {
          "output_type": "display_data",
          "data": {
            "image/png": "[encoded data removed]",
            "text/plain": [
              "<Figure size 432x288 with 1 Axes>"
            ]
          },
          "metadata": {
            "tags": []
          }
        }
      ]
    },
    {
      "cell_type": "code",
      "metadata": {
        "id": "OX7ajDfINQrd",
        "colab_type": "code",
        "outputId": "00b1cff3-da6b-4348-ea66-2a5df3062ea4",
        "colab": {
          "base_uri": "https://localhost:8080/",
          "height": 282
        }
      },
      "source": [
        "plt.plot(h.history['acc'])\n",
        "plt.plot(h.history['val_acc'])"
      ],
      "execution_count": 0,
      "outputs": [
        {
          "output_type": "execute_result",
          "data": {
            "text/plain": [
              "[<matplotlib.lines.Line2D at 0x7fe5d0297320>]"
            ]
          },
          "metadata": {
            "tags": []
          },
          "execution_count": 28
        },
        {
          "output_type": "display_data",
          "data": {
            "image/png": "[encoded data removed]",
            "text/plain": [
              "<Figure size 432x288 with 1 Axes>"
            ]
          },
          "metadata": {
            "tags": []
          }
        }
      ]
    },
    {
      "cell_type": "code",
      "metadata": {
        "id": "I8D3ouZpN9Ep",
        "colab_type": "code",
        "colab": {}
      },
      "source": [
        ""
      ],
      "execution_count": 0,
      "outputs": []
    }
  ]
}